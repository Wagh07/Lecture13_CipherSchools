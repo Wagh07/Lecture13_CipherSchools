{
  "nbformat": 4,
  "nbformat_minor": 0,
  "metadata": {
    "colab": {
      "provenance": []
    },
    "kernelspec": {
      "name": "python3",
      "display_name": "Python 3"
    },
    "language_info": {
      "name": "python"
    }
  },
  "cells": [
    {
      "cell_type": "code",
      "source": [
        " # Indentation (Spacing) is very important in Python\n",
        "\n",
        "\n",
        " #Control Structures...If , If ...else , If..elif..else , Nested If..else\n",
        "\n",
        "\n",
        "\n",
        "  # If\n",
        "\n",
        "\n",
        "num =10\n",
        "if(num):\n",
        "  print('No. is positive')\n",
        "\n",
        "print('this line always prints')\n"
      ],
      "metadata": {
        "colab": {
          "base_uri": "https://localhost:8080/"
        },
        "id": "cs5i2hERZ5kO",
        "outputId": "9ff85d30-11b7-4a93-8830-7d85287fdc48"
      },
      "execution_count": 25,
      "outputs": [
        {
          "output_type": "stream",
          "name": "stdout",
          "text": [
            "No. is positive\n",
            "this line always prints\n"
          ]
        }
      ]
    },
    {
      "cell_type": "code",
      "source": [
        "\n",
        "  # If...else\n",
        "\n",
        "num=-1\n",
        "if(num>=0):\n",
        "   print('Positive')\n",
        "\n",
        "else:\n",
        "   print('Negative')\n",
        "\n",
        "print('this always prints')\n",
        "\n"
      ],
      "metadata": {
        "colab": {
          "base_uri": "https://localhost:8080/"
        },
        "id": "iNsQyBCfc0N0",
        "outputId": "69c86d90-6bd4-4843-aaa1-1f013466797c"
      },
      "execution_count": 27,
      "outputs": [
        {
          "output_type": "stream",
          "name": "stdout",
          "text": [
            "Negative\n",
            "this always prints\n"
          ]
        }
      ]
    },
    {
      "cell_type": "code",
      "source": [
        "\n",
        "\n",
        "  # Nested If..else\n",
        "\n",
        "\n",
        "num=0\n",
        "if num>=0:\n",
        "   if num==0:\n",
        "     print('Zero')\n",
        "   else:\n",
        "    print('Positive')\n",
        "else:\n",
        "   print('Negative')\n",
        "\n"
      ],
      "metadata": {
        "colab": {
          "base_uri": "https://localhost:8080/"
        },
        "id": "O-nL68jUdjt0",
        "outputId": "d2f87fd1-7041-4f9f-bcba-c3f488c1c5f7"
      },
      "execution_count": 33,
      "outputs": [
        {
          "output_type": "stream",
          "name": "stdout",
          "text": [
            "Zero\n"
          ]
        }
      ]
    }
  ]
}